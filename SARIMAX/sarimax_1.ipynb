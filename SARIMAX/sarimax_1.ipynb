{
 "cells": [
  {
   "cell_type": "code",
   "execution_count": null,
   "metadata": {},
   "outputs": [],
   "source": [
    "import pandas as pd\n",
    "import numpy as np\n",
    "from statsmodels.tsa.statespace.sarimax import SARIMAX\n",
    "import matplotlib.pyplot as plt"
   ]
  },
  {
   "cell_type": "code",
   "execution_count": null,
   "metadata": {},
   "outputs": [],
   "source": [
    "# Load training data\n",
    "train_data = pd.read_csv('train_data.csv', parse_dates=['Date'], index_col='Date')\n",
    "\n",
    "# Load forecasting data\n",
    "forecast_data = pd.read_csv('forecast_data.csv', parse_dates=['Date'], index_col='Date')"
   ]
  },
  {
   "cell_type": "code",
   "execution_count": null,
   "metadata": {},
   "outputs": [],
   "source": [
    "# Training data\n",
    "y_train = train_data['PriceHU']\n",
    "X_train = train_data.drop('PriceHU', axis=1)\n",
    "\n",
    "# Forecasting data (regressors only, since 'PriceHU' is what we want to predict)\n",
    "X_forecast = forecast_data.drop('PriceHU', axis=1, errors='ignore')  # Use errors='ignore' in case 'PriceHU' isn't in the forecast_data"
   ]
  },
  {
   "cell_type": "code",
   "execution_count": null,
   "metadata": {},
   "outputs": [],
   "source": [
    "# Ensure index is sorted\n",
    "y_train = y_train.sort_index()\n",
    "X_train = X_train.sort_index()\n",
    "X_forecast = X_forecast.sort_index()"
   ]
  },
  {
   "cell_type": "code",
   "execution_count": null,
   "metadata": {},
   "outputs": [],
   "source": [
    "# Fit the SARIMAX model\n",
    "model = SARIMAX(endog=y_train, exog=X_train, order=(1, 0, 1), seasonal_order=(1, 0, 1, 24))\n",
    "results = model.fit(disp=False)"
   ]
  },
  {
   "cell_type": "code",
   "execution_count": null,
   "metadata": {},
   "outputs": [],
   "source": [
    "# Forecasting\n",
    "start = X_forecast.index[0]\n",
    "end = X_forecast.index[-1]\n",
    "\n",
    "forecast = results.predict(start=start, end=end, exog=X_forecast)"
   ]
  }
 ],
 "metadata": {
  "kernelspec": {
   "display_name": "lstm",
   "language": "python",
   "name": "python3"
  },
  "language_info": {
   "name": "python",
   "version": "3.10.12"
  }
 },
 "nbformat": 4,
 "nbformat_minor": 2
}
